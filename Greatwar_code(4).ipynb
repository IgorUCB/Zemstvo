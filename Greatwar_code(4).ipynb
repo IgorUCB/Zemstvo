{
 "cells": [
  {
   "cell_type": "code",
   "execution_count": 1,
   "id": "4cb40c57",
   "metadata": {},
   "outputs": [],
   "source": [
    "import time\n",
    "from concurrent.futures import ThreadPoolExecutor\n",
    "import threading\n",
    "import time\n",
    "import random\n",
    "from selenium.webdriver.common.action_chains import ActionChains\n",
    "import pandas as pd\n",
    "import csv\n",
    "from selenium import webdriver\n",
    "\n",
    "from selenium import webdriver\n",
    "from selenium.webdriver.common.by import By"
   ]
  },
  {
   "cell_type": "code",
   "execution_count": 14,
   "id": "9d051f46",
   "metadata": {},
   "outputs": [
    {
     "ename": "NameError",
     "evalue": "name 'final_names' is not defined",
     "output_type": "error",
     "traceback": [
      "\u001b[0;31m---------------------------------------------------------------------------\u001b[0m",
      "\u001b[0;31mNameError\u001b[0m                                 Traceback (most recent call last)",
      "\u001b[0;32m/var/folders/hg/_g6ppm0d42l6ppwdsk4slfmw0000gn/T/ipykernel_30928/1363159820.py\u001b[0m in \u001b[0;36m<module>\u001b[0;34m\u001b[0m\n\u001b[0;32m----> 1\u001b[0;31m \u001b[0mfinal_names\u001b[0m\u001b[0;34m\u001b[0m\u001b[0;34m\u001b[0m\u001b[0m\n\u001b[0m",
      "\u001b[0;31mNameError\u001b[0m: name 'final_names' is not defined"
     ]
    }
   ],
   "source": []
  },
  {
   "cell_type": "code",
   "execution_count": 17,
   "id": "875d85c8",
   "metadata": {},
   "outputs": [],
   "source": [
    "\n",
    "#establish connection\n",
    "driver = webdriver.Chrome(executable_path='/Users/igorkolesnikov/Downloads/chromedriver 2')\n",
    "csv_writer_lock = threading.Lock()\n",
    "#function to scrapp all pages of the website \n",
    "def scrapp(pages):\n",
    "    #access the website\n",
    "    driver.get('https://gwar.mil.ru/heroes/')\n",
    "    last_height = driver.execute_script(\"return document.body.scrollHeight\")\n",
    "    driver.execute_script(\"window.scrollTo(0, document.body.scrollHeight);\")\n",
    "    driver.implicitly_wait(0.0001)\n",
    "    elems = driver.find_element(By.ID,\"last_name\")\n",
    "    elems.send_keys(\" \")\n",
    "    driver.find_element(By.XPATH, \"/html/body/div[1]/div[3]/div[1]/div[2]/div[1]/form/div[1]/div[1]/div/div[10]/div/input\").click()\n",
    "    driver.execute_script(\"document.body.style.transform='scale(0.3)';\")\n",
    "    driver.set_window_size(2000, 694)\n",
    "    driver.implicitly_wait(1)\n",
    "    #check whether name is unique\n",
    "    final_names=[]\n",
    "    list_iteration=[]   \n",
    "    for j in range( pages*2):\n",
    "        final_names=list_iteration\n",
    "        list_iteration=[]\n",
    "        #deal with exception\n",
    "        if j== 1661144*2:\n",
    "            number= 5\n",
    "        else:\n",
    "            number=11\n",
    "        for i in range(1,number):#scrapp over the loaded page\n",
    "                elem1=\"\"\n",
    "                elem2=\"\"\n",
    "                string1=\"\"\n",
    "                string2=\"\"\n",
    "                string1= str(\"/html/body/div[1]/div[3]/div[1]/div[2]/div[2]/div[8]/div[\") +str(i) +str(\"]/div[1]\")\n",
    "                try:\n",
    "                    elem1=driver.find_element(By.XPATH, string1).text\n",
    "                except:\n",
    "                    try:\n",
    "                        string1= str(\"/html/body/div[1]/div[3]/div[1]/div[2]/div[2]/div[8]/div[\") +str(i) +str(\"]/div[1]\")\n",
    "                        time.sleep(0.5) \n",
    "                        elem1=driver.find_element(By.XPATH, string1).text\n",
    "                    except:\n",
    "                        elem1=\"\"\n",
    "             # elem1 is a name\n",
    "                string2 = str(\"/html/body/div[1]/div[3]/div[1]/div[2]/div[2]/div[8]/div[\") +str(i) +str(\"]/div[2]\")\n",
    "                try:\n",
    "                    elem2=driver.find_element(By.XPATH, string2).text\n",
    "                except:\n",
    "                    try:\n",
    "                        string2= str(\"/html/body/div[1]/div[3]/div[1]/div[2]/div[2]/div[8]/div[\") +str(i) +str(\"]/div[2]\")\n",
    "                        time.sleep(0.5) \n",
    "                        elem2=driver.find_element(By.XPATH, string2).text\n",
    "                    except: \n",
    "                        elem2=\"\"\n",
    "                elem2= elem2.replace(\"\\n\",\",\").split(',') #elem2 is a bio\n",
    "                elem2_str=\"|\".join(elem2) \n",
    "                row = [ [ elem1]+[elem2_str]+[j]] #create a row for csv\n",
    "                with csv_writer_lock:\n",
    "                    with open(\"final.csv\", mode=\"a\") as f1:\n",
    "                        review_writer = csv.writer(f1,delimiter=\";\")\n",
    "                        for r in row:\n",
    "                            review_writer.writerow(r)\n",
    "        #go to the next page\n",
    "        button=driver.find_elements_by_link_text(\"→\")\n",
    "        try:\n",
    "            button[0].click()\n",
    "        except:\n",
    "            try:\n",
    "                button=driver.find_elements_by_link_text(\"→\")\n",
    "                time.sleep(0.5)\n",
    "                button[0].click()\n",
    "            except:\n",
    "                button=driver.find_elements_by_link_text(\"→\")\n",
    "                ActionChains(driver).move_to_element(button[0]).click().perform()\n",
    "        \n",
    "    return pd.DataFrame(row)\n",
    "#use multiple cores\n",
    "def set_up_threads():\n",
    "    with ThreadPoolExecutor(max_workers=7) as executor:\n",
    "        return executor.map(scrapp(1661145)  ,\n",
    "                            timeout = 15)  "
   ]
  },
  {
   "cell_type": "code",
   "execution_count": 18,
   "id": "818e62e1",
   "metadata": {},
   "outputs": [
    {
     "ename": "TimeoutException",
     "evalue": "Message: timeout: Timed out receiving message from renderer: 300.000\n  (Session info: chrome=106.0.5249.119)\n",
     "output_type": "error",
     "traceback": [
      "\u001b[0;31m---------------------------------------------------------------------------\u001b[0m",
      "\u001b[0;31mTimeoutException\u001b[0m                          Traceback (most recent call last)",
      "\u001b[0;32m/var/folders/hg/_g6ppm0d42l6ppwdsk4slfmw0000gn/T/ipykernel_62114/491707005.py\u001b[0m in \u001b[0;36m<module>\u001b[0;34m\u001b[0m\n\u001b[1;32m      1\u001b[0m \u001b[0;32mif\u001b[0m \u001b[0m__name__\u001b[0m \u001b[0;34m==\u001b[0m \u001b[0;34m\"__main__\"\u001b[0m\u001b[0;34m:\u001b[0m\u001b[0;34m\u001b[0m\u001b[0;34m\u001b[0m\u001b[0m\n\u001b[1;32m      2\u001b[0m     \u001b[0;31m# read and generate urls\u001b[0m\u001b[0;34m\u001b[0m\u001b[0;34m\u001b[0m\u001b[0m\n\u001b[0;32m----> 3\u001b[0;31m     \u001b[0mset_up_threads\u001b[0m\u001b[0;34m(\u001b[0m\u001b[0;34m)\u001b[0m\u001b[0;34m\u001b[0m\u001b[0;34m\u001b[0m\u001b[0m\n\u001b[0m",
      "\u001b[0;32m/var/folders/hg/_g6ppm0d42l6ppwdsk4slfmw0000gn/T/ipykernel_62114/239549747.py\u001b[0m in \u001b[0;36mset_up_threads\u001b[0;34m()\u001b[0m\n\u001b[1;32m     77\u001b[0m \u001b[0;32mdef\u001b[0m \u001b[0mset_up_threads\u001b[0m\u001b[0;34m(\u001b[0m\u001b[0;34m)\u001b[0m\u001b[0;34m:\u001b[0m\u001b[0;34m\u001b[0m\u001b[0;34m\u001b[0m\u001b[0m\n\u001b[1;32m     78\u001b[0m     \u001b[0;32mwith\u001b[0m \u001b[0mThreadPoolExecutor\u001b[0m\u001b[0;34m(\u001b[0m\u001b[0mmax_workers\u001b[0m\u001b[0;34m=\u001b[0m\u001b[0;36m7\u001b[0m\u001b[0;34m)\u001b[0m \u001b[0;32mas\u001b[0m \u001b[0mexecutor\u001b[0m\u001b[0;34m:\u001b[0m\u001b[0;34m\u001b[0m\u001b[0;34m\u001b[0m\u001b[0m\n\u001b[0;32m---> 79\u001b[0;31m         return executor.map(scrapp(1661145)  ,\n\u001b[0m\u001b[1;32m     80\u001b[0m                             timeout = 15)  \n",
      "\u001b[0;32m/var/folders/hg/_g6ppm0d42l6ppwdsk4slfmw0000gn/T/ipykernel_62114/239549747.py\u001b[0m in \u001b[0;36mscrapp\u001b[0;34m(pages)\u001b[0m\n\u001b[1;32m     61\u001b[0m                             \u001b[0mreview_writer\u001b[0m\u001b[0;34m.\u001b[0m\u001b[0mwriterow\u001b[0m\u001b[0;34m(\u001b[0m\u001b[0mr\u001b[0m\u001b[0;34m)\u001b[0m\u001b[0;34m\u001b[0m\u001b[0;34m\u001b[0m\u001b[0m\n\u001b[1;32m     62\u001b[0m         \u001b[0;31m#go to the next page\u001b[0m\u001b[0;34m\u001b[0m\u001b[0;34m\u001b[0m\u001b[0m\n\u001b[0;32m---> 63\u001b[0;31m         \u001b[0mbutton\u001b[0m\u001b[0;34m=\u001b[0m\u001b[0mdriver\u001b[0m\u001b[0;34m.\u001b[0m\u001b[0mfind_elements_by_link_text\u001b[0m\u001b[0;34m(\u001b[0m\u001b[0;34m\"→\"\u001b[0m\u001b[0;34m)\u001b[0m\u001b[0;34m\u001b[0m\u001b[0;34m\u001b[0m\u001b[0m\n\u001b[0m\u001b[1;32m     64\u001b[0m         \u001b[0;32mtry\u001b[0m\u001b[0;34m:\u001b[0m\u001b[0;34m\u001b[0m\u001b[0;34m\u001b[0m\u001b[0m\n\u001b[1;32m     65\u001b[0m             \u001b[0mbutton\u001b[0m\u001b[0;34m[\u001b[0m\u001b[0;36m0\u001b[0m\u001b[0;34m]\u001b[0m\u001b[0;34m.\u001b[0m\u001b[0mclick\u001b[0m\u001b[0;34m(\u001b[0m\u001b[0;34m)\u001b[0m\u001b[0;34m\u001b[0m\u001b[0;34m\u001b[0m\u001b[0m\n",
      "\u001b[0;32m/opt/homebrew/anaconda3/lib/python3.9/site-packages/selenium/webdriver/remote/webdriver.py\u001b[0m in \u001b[0;36mfind_elements_by_link_text\u001b[0;34m(self, text)\u001b[0m\n\u001b[1;32m    442\u001b[0m             \u001b[0melements\u001b[0m \u001b[0;34m=\u001b[0m \u001b[0mdriver\u001b[0m\u001b[0;34m.\u001b[0m\u001b[0mfind_elements_by_link_text\u001b[0m\u001b[0;34m(\u001b[0m\u001b[0;34m'Sign In'\u001b[0m\u001b[0;34m)\u001b[0m\u001b[0;34m\u001b[0m\u001b[0;34m\u001b[0m\u001b[0m\n\u001b[1;32m    443\u001b[0m         \"\"\"\n\u001b[0;32m--> 444\u001b[0;31m         \u001b[0;32mreturn\u001b[0m \u001b[0mself\u001b[0m\u001b[0;34m.\u001b[0m\u001b[0mfind_elements\u001b[0m\u001b[0;34m(\u001b[0m\u001b[0mby\u001b[0m\u001b[0;34m=\u001b[0m\u001b[0mBy\u001b[0m\u001b[0;34m.\u001b[0m\u001b[0mLINK_TEXT\u001b[0m\u001b[0;34m,\u001b[0m \u001b[0mvalue\u001b[0m\u001b[0;34m=\u001b[0m\u001b[0mtext\u001b[0m\u001b[0;34m)\u001b[0m\u001b[0;34m\u001b[0m\u001b[0;34m\u001b[0m\u001b[0m\n\u001b[0m\u001b[1;32m    445\u001b[0m \u001b[0;34m\u001b[0m\u001b[0m\n\u001b[1;32m    446\u001b[0m     \u001b[0;32mdef\u001b[0m \u001b[0mfind_element_by_partial_link_text\u001b[0m\u001b[0;34m(\u001b[0m\u001b[0mself\u001b[0m\u001b[0;34m,\u001b[0m \u001b[0mlink_text\u001b[0m\u001b[0;34m)\u001b[0m\u001b[0;34m:\u001b[0m\u001b[0;34m\u001b[0m\u001b[0;34m\u001b[0m\u001b[0m\n",
      "\u001b[0;32m/opt/homebrew/anaconda3/lib/python3.9/site-packages/selenium/webdriver/remote/webdriver.py\u001b[0m in \u001b[0;36mfind_elements\u001b[0;34m(self, by, value)\u001b[0m\n\u001b[1;32m   1003\u001b[0m         \u001b[0;31m# Return empty list if driver returns null\u001b[0m\u001b[0;34m\u001b[0m\u001b[0;34m\u001b[0m\u001b[0m\n\u001b[1;32m   1004\u001b[0m         \u001b[0;31m# See https://github.com/SeleniumHQ/selenium/issues/4555\u001b[0m\u001b[0;34m\u001b[0m\u001b[0;34m\u001b[0m\u001b[0m\n\u001b[0;32m-> 1005\u001b[0;31m         return self.execute(Command.FIND_ELEMENTS, {\n\u001b[0m\u001b[1;32m   1006\u001b[0m             \u001b[0;34m'using'\u001b[0m\u001b[0;34m:\u001b[0m \u001b[0mby\u001b[0m\u001b[0;34m,\u001b[0m\u001b[0;34m\u001b[0m\u001b[0;34m\u001b[0m\u001b[0m\n\u001b[1;32m   1007\u001b[0m             'value': value})['value'] or []\n",
      "\u001b[0;32m/opt/homebrew/anaconda3/lib/python3.9/site-packages/selenium/webdriver/remote/webdriver.py\u001b[0m in \u001b[0;36mexecute\u001b[0;34m(self, driver_command, params)\u001b[0m\n\u001b[1;32m    319\u001b[0m         \u001b[0mresponse\u001b[0m \u001b[0;34m=\u001b[0m \u001b[0mself\u001b[0m\u001b[0;34m.\u001b[0m\u001b[0mcommand_executor\u001b[0m\u001b[0;34m.\u001b[0m\u001b[0mexecute\u001b[0m\u001b[0;34m(\u001b[0m\u001b[0mdriver_command\u001b[0m\u001b[0;34m,\u001b[0m \u001b[0mparams\u001b[0m\u001b[0;34m)\u001b[0m\u001b[0;34m\u001b[0m\u001b[0;34m\u001b[0m\u001b[0m\n\u001b[1;32m    320\u001b[0m         \u001b[0;32mif\u001b[0m \u001b[0mresponse\u001b[0m\u001b[0;34m:\u001b[0m\u001b[0;34m\u001b[0m\u001b[0;34m\u001b[0m\u001b[0m\n\u001b[0;32m--> 321\u001b[0;31m             \u001b[0mself\u001b[0m\u001b[0;34m.\u001b[0m\u001b[0merror_handler\u001b[0m\u001b[0;34m.\u001b[0m\u001b[0mcheck_response\u001b[0m\u001b[0;34m(\u001b[0m\u001b[0mresponse\u001b[0m\u001b[0;34m)\u001b[0m\u001b[0;34m\u001b[0m\u001b[0;34m\u001b[0m\u001b[0m\n\u001b[0m\u001b[1;32m    322\u001b[0m             response['value'] = self._unwrap_value(\n\u001b[1;32m    323\u001b[0m                 response.get('value', None))\n",
      "\u001b[0;32m/opt/homebrew/anaconda3/lib/python3.9/site-packages/selenium/webdriver/remote/errorhandler.py\u001b[0m in \u001b[0;36mcheck_response\u001b[0;34m(self, response)\u001b[0m\n\u001b[1;32m    240\u001b[0m                 \u001b[0malert_text\u001b[0m \u001b[0;34m=\u001b[0m \u001b[0mvalue\u001b[0m\u001b[0;34m[\u001b[0m\u001b[0;34m'alert'\u001b[0m\u001b[0;34m]\u001b[0m\u001b[0;34m.\u001b[0m\u001b[0mget\u001b[0m\u001b[0;34m(\u001b[0m\u001b[0;34m'text'\u001b[0m\u001b[0;34m)\u001b[0m\u001b[0;34m\u001b[0m\u001b[0;34m\u001b[0m\u001b[0m\n\u001b[1;32m    241\u001b[0m             \u001b[0;32mraise\u001b[0m \u001b[0mexception_class\u001b[0m\u001b[0;34m(\u001b[0m\u001b[0mmessage\u001b[0m\u001b[0;34m,\u001b[0m \u001b[0mscreen\u001b[0m\u001b[0;34m,\u001b[0m \u001b[0mstacktrace\u001b[0m\u001b[0;34m,\u001b[0m \u001b[0malert_text\u001b[0m\u001b[0;34m)\u001b[0m\u001b[0;34m\u001b[0m\u001b[0;34m\u001b[0m\u001b[0m\n\u001b[0;32m--> 242\u001b[0;31m         \u001b[0;32mraise\u001b[0m \u001b[0mexception_class\u001b[0m\u001b[0;34m(\u001b[0m\u001b[0mmessage\u001b[0m\u001b[0;34m,\u001b[0m \u001b[0mscreen\u001b[0m\u001b[0;34m,\u001b[0m \u001b[0mstacktrace\u001b[0m\u001b[0;34m)\u001b[0m\u001b[0;34m\u001b[0m\u001b[0;34m\u001b[0m\u001b[0m\n\u001b[0m\u001b[1;32m    243\u001b[0m \u001b[0;34m\u001b[0m\u001b[0m\n\u001b[1;32m    244\u001b[0m     \u001b[0;32mdef\u001b[0m \u001b[0m_value_or_default\u001b[0m\u001b[0;34m(\u001b[0m\u001b[0mself\u001b[0m\u001b[0;34m,\u001b[0m \u001b[0mobj\u001b[0m\u001b[0;34m,\u001b[0m \u001b[0mkey\u001b[0m\u001b[0;34m,\u001b[0m \u001b[0mdefault\u001b[0m\u001b[0;34m)\u001b[0m\u001b[0;34m:\u001b[0m\u001b[0;34m\u001b[0m\u001b[0;34m\u001b[0m\u001b[0m\n",
      "\u001b[0;31mTimeoutException\u001b[0m: Message: timeout: Timed out receiving message from renderer: 300.000\n  (Session info: chrome=106.0.5249.119)\n"
     ]
    }
   ],
   "source": [
    "if __name__ == \"__main__\":\n",
    "    # read and generate urls\n",
    "    set_up_threads()"
   ]
  },
  {
   "cell_type": "code",
   "execution_count": 6,
   "id": "fed22428",
   "metadata": {},
   "outputs": [
    {
     "ename": "NameError",
     "evalue": "name 'final_names' is not defined",
     "output_type": "error",
     "traceback": [
      "\u001b[0;31m---------------------------------------------------------------------------\u001b[0m",
      "\u001b[0;31mNameError\u001b[0m                                 Traceback (most recent call last)",
      "\u001b[0;32m/var/folders/hg/_g6ppm0d42l6ppwdsk4slfmw0000gn/T/ipykernel_31261/1363159820.py\u001b[0m in \u001b[0;36m<module>\u001b[0;34m\u001b[0m\n\u001b[0;32m----> 1\u001b[0;31m \u001b[0mfinal_names\u001b[0m\u001b[0;34m\u001b[0m\u001b[0;34m\u001b[0m\u001b[0m\n\u001b[0m",
      "\u001b[0;31mNameError\u001b[0m: name 'final_names' is not defined"
     ]
    }
   ],
   "source": []
  }
 ],
 "metadata": {
  "kernelspec": {
   "display_name": "Python 3 (ipykernel)",
   "language": "python",
   "name": "python3"
  },
  "language_info": {
   "codemirror_mode": {
    "name": "ipython",
    "version": 3
   },
   "file_extension": ".py",
   "mimetype": "text/x-python",
   "name": "python",
   "nbconvert_exporter": "python",
   "pygments_lexer": "ipython3",
   "version": "3.9.7"
  }
 },
 "nbformat": 4,
 "nbformat_minor": 5
}
